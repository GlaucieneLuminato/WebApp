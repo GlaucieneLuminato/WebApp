{
 "cells": [
  {
   "cell_type": "code",
   "execution_count": null,
   "id": "7d9ef93f-1c2d-4b10-a0fe-d5d56a610f3e",
   "metadata": {},
   "outputs": [],
   "source": []
  },
  {
   "cell_type": "code",
   "execution_count": null,
   "id": "23c9eaf9-5086-469a-8725-09d48f9b4a8f",
   "metadata": {},
   "outputs": [],
   "source": []
  },
  {
   "cell_type": "code",
   "execution_count": 1,
   "id": "eeb109d2-267e-4267-ba9c-ad5dac952ed9",
   "metadata": {},
   "outputs": [
    {
     "ename": "NameError",
     "evalue": "name 'flores' is not defined",
     "output_type": "error",
     "traceback": [
      "\u001b[0;31m---------------------------------------------------------------------------\u001b[0m",
      "\u001b[0;31mNameError\u001b[0m                                 Traceback (most recent call last)",
      "Cell \u001b[0;32mIn[1], line 1\u001b[0m\n\u001b[0;32m----> 1\u001b[0m \u001b[43mflores\u001b[49m\n",
      "\u001b[0;31mNameError\u001b[0m: name 'flores' is not defined"
     ]
    }
   ],
   "source": [
    "flores\n"
   ]
  },
  {
   "cell_type": "code",
   "execution_count": null,
   "id": "189dd3eb-444f-4e07-98ef-8872fa876ddc",
   "metadata": {},
   "outputs": [],
   "source": []
  }
 ],
 "metadata": {
  "kernelspec": {
   "display_name": "Python 3 (ipykernel)",
   "language": "python",
   "name": "python3"
  },
  "language_info": {
   "codemirror_mode": {
    "name": "ipython",
    "version": 3
   },
   "file_extension": ".py",
   "mimetype": "text/x-python",
   "name": "python",
   "nbconvert_exporter": "python",
   "pygments_lexer": "ipython3",
   "version": "3.12.1"
  }
 },
 "nbformat": 4,
 "nbformat_minor": 5
}
